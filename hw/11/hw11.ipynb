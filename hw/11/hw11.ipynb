{
 "cells": [
  {
   "cell_type": "code",
   "execution_count": 36,
   "id": "a3efad77",
   "metadata": {
    "deletable": false,
    "editable": false
   },
   "outputs": [],
   "source": [
    "# Initialize Otter\n",
    "import otter\n",
    "grader = otter.Notebook(\"hw11.ipynb\")"
   ]
  },
  {
   "cell_type": "markdown",
   "id": "e2453e83",
   "metadata": {},
   "source": [
    "# Homework 11: Regression Inference"
   ]
  },
  {
   "cell_type": "markdown",
   "id": "35dd31d5",
   "metadata": {},
   "source": [
    "**Helpful Resource:**\n",
    "\n",
    "- [Python Reference](http://data8.org/sp22/python-reference.html): Cheat sheet of helpful array & table methods used in Data 8!\n",
    "\n",
    "**Recommended Reading**: \n",
    "\n",
    "* [Using Confidence Intervals](https://inferentialthinking.com/chapters/13/4/Using_Confidence_Intervals.html)\n",
    "* [The Regression Line](https://inferentialthinking.com/chapters/15/2/Regression_Line.html#the-regression-line-in-standard-units)\n",
    "* [Inference for Regression](https://www.inferentialthinking.com/chapters/16/Inference_for_Regression.html)"
   ]
  },
  {
   "cell_type": "markdown",
   "id": "b99c0c89",
   "metadata": {},
   "source": [
    "Please complete this notebook by filling in the cells provided. Before you begin, execute the following cell to setup the notebook by importing some helpful libraries. Each time you start your server, you will need to execute this cell again.\n",
    "\n",
    "For all problems that you must write explanations and sentences for, you **must** provide your answer in the designated space. **Moreover, throughout this homework and all future ones, please be sure to not re-assign variables throughout the notebook!** For example, if you use `max_temperature` in your answer to one question, do not reassign it later on. Otherwise, you will fail tests that you thought you were passing previously!\n",
    "\n",
    "\n",
    "**Note: This homework has hidden tests on it. That means even though the tests may say 100% passed, it doesn't mean your final grade will be 100%. We will be running more tests for correctness once everyone turns in the homework.**\n",
    "\n",
    "\n",
    "Directly sharing answers is not okay, but discussing problems with the course staff or with other students is encouraged. \n",
    "\n",
    "You should start early so that you have time to get help if you're stuck."
   ]
  },
  {
   "cell_type": "code",
   "execution_count": 37,
   "id": "aaf82e74",
   "metadata": {},
   "outputs": [],
   "source": [
    "# Don't change this cell; just run it. \n",
    "\n",
    "import numpy as np\n",
    "from datascience import *\n",
    "import d8error\n",
    "\n",
    "# These lines do some fancy plotting magic\n",
    "import matplotlib\n",
    "%matplotlib inline\n",
    "import matplotlib.pyplot as plt\n",
    "plt.style.use('fivethirtyeight')\n",
    "import warnings\n",
    "warnings.simplefilter('ignore')\n",
    "from datetime import datetime"
   ]
  },
  {
   "cell_type": "markdown",
   "id": "51bdebc0",
   "metadata": {},
   "source": [
    "## An Introduction to Regression Inference"
   ]
  },
  {
   "cell_type": "markdown",
   "id": "0f1d266d",
   "metadata": {},
   "source": [
    "Previously in this class, we've used confidence intervals to quantify uncertainty about estimates. We can also run hypothesis tests using a confidence interval under the following procedure:\n",
    "\n",
    "1. Define a null and alternative hypothesis (they must be of the form \"The parameter is X\" and \"The parameter is not X\").\n",
    "2. Choose a p-value cutoff, and call it $q$.\n",
    "3. Construct a $(100-q)\\%$ interval using bootstrap sampling (for example, if your p-value cutoff is 0.01, or 1%, then construct a 99% confidence interval).\n",
    "4. Using the confidence interval, determine if your data are more consistent with your null or alternative hypothesis:\n",
    "   * If the null hypothesis parameter X is in your confidence interval, the data are more consistent with the null hypothesis.\n",
    "   * If the null hypothesis parameter X is *not* in your confidence interval, the data are more consistent with the alternative hypothesis.\n",
    "\n",
    "More recently, we've discussed the use of linear regression to make predictions based on correlated variables. For example, we can predict the height of children based on the heights of their parents.\n",
    "\n",
    "We can combine these two topics to make powerful statements about our population by using the following techniques:\n",
    "\n",
    "- Bootstrapped interval for the true slope\n",
    "- Bootstrapped prediction interval for y (given a particular value of x)\n",
    "\n",
    "This homework explores these two methods."
   ]
  },
  {
   "cell_type": "markdown",
   "id": "cfaf0bac",
   "metadata": {},
   "source": [
    "## The Data\n",
    "The [Snowy Plover](https://www.audubon.org/field-guide/bird/snowy-plover) is a tiny bird that lives on the coast in parts of California and elsewhere. It is so small that it is vulnerable to many predators, including people and dogs that don't look where they are stepping when they go to the beach. It is considered endangered in many parts of the U.S.\n",
    "\n",
    "The data are about the eggs and newly-hatched chicks of the Snowy Plover. Here's a picture of [a parent bird incubating its eggs](http://cescos.fau.edu/jay/eps/articles/snowyplover.html).\n",
    "\n",
    "<img src=\"plover_and_eggs.jpeg\" alt=\"Plover and Eggs\">\n",
    "\n",
    "The data were collected at the Point Reyes National Seashore by a former [student at Berkeley](https://openlibrary.org/books/OL2038693M/BLSS_the_Berkeley_interactive_statistical_system). The goal was to see how the size of an egg could be used to predict the weight of the resulting chick. The bigger the newly-hatched chick, the more likely it is to survive.\n",
    "\n",
    "<img src=\"plover_and_chick.jpeg\" alt=\"Plover and Chick\">\n",
    "\n",
    "Each row of the table below corresponds to one Snowy Plover egg and the resulting chick. Note how tiny the bird is:\n",
    "\n",
    "- `Egg Length` and `Egg Breadth` (widest diameter) are measured in millimeters\n",
    "- `Egg Weight` and `Bird Weight` are measured in grams; for comparison, a standard paper clip weighs about one gram"
   ]
  },
  {
   "cell_type": "code",
   "execution_count": 38,
   "id": "bf570183",
   "metadata": {},
   "outputs": [
    {
     "data": {
      "text/html": [
       "<table border=\"1\" class=\"dataframe\">\n",
       "    <thead>\n",
       "        <tr>\n",
       "            <th>Egg Length</th> <th>Egg Breadth</th> <th>Egg Weight</th> <th>Bird Weight</th>\n",
       "        </tr>\n",
       "    </thead>\n",
       "    <tbody>\n",
       "        <tr>\n",
       "            <td>28.8      </td> <td>21.84      </td> <td>7.4       </td> <td>5.2        </td>\n",
       "        </tr>\n",
       "        <tr>\n",
       "            <td>29.04     </td> <td>22.45      </td> <td>7.7       </td> <td>5.4        </td>\n",
       "        </tr>\n",
       "        <tr>\n",
       "            <td>29.36     </td> <td>22.48      </td> <td>7.9       </td> <td>5.6        </td>\n",
       "        </tr>\n",
       "        <tr>\n",
       "            <td>30.1      </td> <td>21.71      </td> <td>7.5       </td> <td>5.3        </td>\n",
       "        </tr>\n",
       "        <tr>\n",
       "            <td>30.17     </td> <td>22.75      </td> <td>8.3       </td> <td>5.9        </td>\n",
       "        </tr>\n",
       "        <tr>\n",
       "            <td>30.34     </td> <td>22.84      </td> <td>8.5       </td> <td>5.8        </td>\n",
       "        </tr>\n",
       "        <tr>\n",
       "            <td>30.36     </td> <td>22.5       </td> <td>8.2       </td> <td>5.8        </td>\n",
       "        </tr>\n",
       "        <tr>\n",
       "            <td>30.46     </td> <td>22.72      </td> <td>8.3       </td> <td>6          </td>\n",
       "        </tr>\n",
       "        <tr>\n",
       "            <td>30.54     </td> <td>23.31      </td> <td>9         </td> <td>6.1        </td>\n",
       "        </tr>\n",
       "        <tr>\n",
       "            <td>30.62     </td> <td>22.94      </td> <td>8.5       </td> <td>6.2        </td>\n",
       "        </tr>\n",
       "    </tbody>\n",
       "</table>\n",
       "<p>... (34 rows omitted)</p>"
      ],
      "text/plain": [
       "Egg Length | Egg Breadth | Egg Weight | Bird Weight\n",
       "28.8       | 21.84       | 7.4        | 5.2\n",
       "29.04      | 22.45       | 7.7        | 5.4\n",
       "29.36      | 22.48       | 7.9        | 5.6\n",
       "30.1       | 21.71       | 7.5        | 5.3\n",
       "30.17      | 22.75       | 8.3        | 5.9\n",
       "30.34      | 22.84       | 8.5        | 5.8\n",
       "30.36      | 22.5        | 8.2        | 5.8\n",
       "30.46      | 22.72       | 8.3        | 6\n",
       "30.54      | 23.31       | 9          | 6.1\n",
       "30.62      | 22.94       | 8.5        | 6.2\n",
       "... (34 rows omitted)"
      ]
     },
     "execution_count": 38,
     "metadata": {},
     "output_type": "execute_result"
    }
   ],
   "source": [
    "birds = Table.read_table('snowy_plover.csv')\n",
    "birds"
   ]
  },
  {
   "cell_type": "markdown",
   "id": "f18a1aea",
   "metadata": {},
   "source": [
    "In this investigation, we will be using the egg weight to predict bird weight. Run the cell below to create a scatter plot of the egg weights and bird weights, along with their line of best fit."
   ]
  },
  {
   "cell_type": "code",
   "execution_count": 39,
   "id": "a4be4261",
   "metadata": {},
   "outputs": [
    {
     "data": {
      "image/png": "[encoded data removed]",
      "text/plain": [
       "<Figure size 500x500 with 1 Axes>"
      ]
     },
     "metadata": {},
     "output_type": "display_data"
    }
   ],
   "source": [
    "# Just run this cell and examine the scatter plot.\n",
    "birds.scatter('Egg Weight', \"Bird Weight\", fit_line=True)"
   ]
  },
  {
   "cell_type": "markdown",
   "id": "a9925747",
   "metadata": {},
   "source": [
    "## 1. Finding the Bootstrap Confidence Interval for the True Slope\n",
    "\n",
    "Looking at the scatter plot of our sample, we observe a linear relationship between egg weight and bird weight. However, relationships that appear in a sample might not exist in the population from which the sample was taken.\n",
    "\n",
    "We want to know if there truly exists a linear relationship between egg weight and bird weight for Snowy Plovers. If there is no linear relationship between the two variables, then we'd expect a correlation of 0. Consequently, the slope of the regression line would also be 0. "
   ]
  },
  {
   "cell_type": "markdown",
   "id": "515ecddc",
   "metadata": {},
   "source": [
    "<!-- BEGIN QUESTION -->\n",
    "\n",
    "**Question 1.1.** Let's run a hypothesis test using confidence intervals to see if there is a linear relationship between egg weight and bird weight. Define the null and alternative hypotheses that will allow you to conduct this test. **(8 points)**\n",
    "\n",
    "*Note:* Please write your answer **in the cell below** in the following format:\n",
    "- **Null Hypothesis:**\n",
    "- **Alternative Hypothesis:**\n",
    "\n",
    "\n"
   ]
  },
  {
   "cell_type": "markdown",
   "id": "1bbfa1d0",
   "metadata": {},
   "source": [
    "* Null Hypothesis: The slope of the true line is 0.\n",
    "* Alternative Hypothesis: The slope of the true line is nonzero."
   ]
  },
  {
   "cell_type": "markdown",
   "id": "a9533591",
   "metadata": {},
   "source": [
    "<!-- END QUESTION -->\n",
    "\n",
    "**Question 1.2.** Define the following two functions:\n",
    "\n",
    "1. `standard_units`: This function takes in an array of numbers and returns an array containing those numbers converted to standard units.\n",
    "2. `correlation`: This function takes in a table and two column names (one for *x* and one for *y*) and returns the correlation between these columns. \n",
    "\n",
    "**(8 points)**\n"
   ]
  },
  {
   "cell_type": "code",
   "execution_count": 40,
   "id": "fc9c19ab",
   "metadata": {
    "ExecuteTime": {
     "end_time": "2018-04-11T12:05:50.894154Z",
     "start_time": "2018-04-11T12:05:50.889145Z"
    },
    "deletable": false,
    "tags": []
   },
   "outputs": [],
   "source": [
    "def standard_units(arr):\n",
    "    return (arr-np.mean(arr))/np.std(arr)\n",
    "\n",
    "def correlation(tbl, x_col, y_col):\n",
    "    return np.mean(standard_units(tbl.column(x_col))*standard_units(tbl.column(y_col)))"
   ]
  },
  {
   "cell_type": "code",
   "execution_count": 41,
   "id": "48c59e16",
   "metadata": {
    "deletable": false,
    "editable": false
   },
   "outputs": [
    {
     "data": {
      "text/html": [
       "<p><strong><pre style='display: inline;'>q1_2</pre></strong> passed! 🌈</p>"
      ],
      "text/plain": [
       "q1_2 results: All test cases passed!"
      ]
     },
     "execution_count": 41,
     "metadata": {},
     "output_type": "execute_result"
    }
   ],
   "source": [
    "grader.check(\"q1_2\")"
   ]
  },
  {
   "cell_type": "markdown",
   "id": "2dd93abf",
   "metadata": {},
   "source": [
    "**Question 1.3.** Using the functions you just implemented, create a function called `fit_line`.  It should take a table like `birds` and the column names associated to *x* and *y* as its arguments and return an *array* containing the slope and intercept of the regression line (in that order) that predicts the *y* column in the table using the *x* column. **(8 points)**\n"
   ]
  },
  {
   "cell_type": "code",
   "execution_count": 42,
   "id": "d5d28b30",
   "metadata": {
    "ExecuteTime": {
     "end_time": "2018-04-11T12:05:51.483516Z",
     "start_time": "2018-04-11T12:05:51.472484Z"
    },
    "for_assignment_type": "solution",
    "tags": []
   },
   "outputs": [
    {
     "data": {
      "text/plain": [
       "array([ 0.71851534, -0.05827226])"
      ]
     },
     "execution_count": 42,
     "metadata": {},
     "output_type": "execute_result"
    }
   ],
   "source": [
    "def fit_line(tbl, x_col, y_col):\n",
    "    r = correlation(tbl, x_col, y_col)\n",
    "    x = tbl.column(x_col)\n",
    "    y = tbl.column(y_col)\n",
    "    slope = r * np.std(y) / np.std(x)\n",
    "    intercept = np.mean(y) - slope * np.mean(x)\n",
    "    return make_array(slope, intercept)\n",
    "\n",
    "fit_line(birds, \"Egg Weight\", \"Bird Weight\")"
   ]
  },
  {
   "cell_type": "code",
   "execution_count": 43,
   "id": "21cf2718",
   "metadata": {
    "deletable": false,
    "editable": false
   },
   "outputs": [
    {
     "data": {
      "text/html": [
       "<p><strong><pre style='display: inline;'>q1_3</pre></strong> passed! 🍀</p>"
      ],
      "text/plain": [
       "q1_3 results: All test cases passed!"
      ]
     },
     "execution_count": 43,
     "metadata": {},
     "output_type": "execute_result"
    }
   ],
   "source": [
    "grader.check(\"q1_3\")"
   ]
  },
  {
   "cell_type": "markdown",
   "id": "3aa7608b",
   "metadata": {},
   "source": [
    "**Run** this cell to plot the line produced by calling `fit_line` on the `birds` table.  \n",
    "\n",
    "**Note:** You are not responsible for the code in the cell below, but make sure that your `fit_line` function generated a reasonable line for the data."
   ]
  },
  {
   "cell_type": "code",
   "execution_count": 44,
   "id": "978b6622",
   "metadata": {
    "ExecuteTime": {
     "end_time": "2018-04-11T12:05:51.754766Z",
     "start_time": "2018-04-11T12:05:51.624390Z"
    }
   },
   "outputs": [
    {
     "data": {
      "image/png": "[encoded data removed]",
      "text/plain": [
       "<Figure size 500x500 with 1 Axes>"
      ]
     },
     "metadata": {},
     "output_type": "display_data"
    }
   ],
   "source": [
    "# Ensure your fit_line function fits a reasonable line \n",
    "# to the data in birds, using the plot below.\n",
    "\n",
    "# Just run this cell\n",
    "slope, intercept = fit_line(birds, \"Egg Weight\", \"Bird Weight\")\n",
    "birds.scatter(\"Egg Weight\", \"Bird Weight\")\n",
    "plt.plot([min(birds.column(\"Egg Weight\")), max(birds.column(\"Egg Weight\"))], \n",
    "         [slope*min(birds.column(\"Egg Weight\"))+intercept, slope*max(birds.column(\"Egg Weight\"))+intercept])\n",
    "plt.show()"
   ]
  },
  {
   "cell_type": "markdown",
   "id": "68f0f66f",
   "metadata": {},
   "source": [
    "Now we have all the tools we need to create a confidence interval that quantifies our uncertainty about the true relationship between egg weight and bird weight."
   ]
  },
  {
   "cell_type": "markdown",
   "id": "d6f8b1cd",
   "metadata": {},
   "source": [
    "<!-- BEGIN QUESTION -->\n",
    "\n",
    "**Question 1.4.** Create an array called `resampled_slopes` that contains the slope of the best fit line for 1000 bootstrap resamples of `birds`. Plot the distribution of these slopes. **(8 points)**\n"
   ]
  },
  {
   "cell_type": "code",
   "execution_count": 45,
   "id": "04d18e70",
   "metadata": {
    "for_assignment_type": "solution",
    "tags": []
   },
   "outputs": [
    {
     "data": {
      "image/png": "[encoded data removed]",
      "text/plain": [
       "<Figure size 600x400 with 1 Axes>"
      ]
     },
     "metadata": {},
     "output_type": "display_data"
    }
   ],
   "source": [
    "resampled_slopes = make_array()\n",
    "\n",
    "for i in np.arange(1000): \n",
    "    birds_bootstrap = birds.sample()\n",
    "    bootstrap_line = fit_line(birds_bootstrap, 'Egg Weight', 'Bird Weight')\n",
    "    bootstrap_slope = bootstrap_line.item(0)\n",
    "    resampled_slopes = np.append(resampled_slopes, bootstrap_slope)\n",
    "    \n",
    "# DO NOT CHANGE THIS LINE\n",
    "Table().with_column(\"Slope estimate\", resampled_slopes).hist()"
   ]
  },
  {
   "cell_type": "code",
   "execution_count": 46,
   "id": "7812cf45",
   "metadata": {
    "deletable": false,
    "editable": false
   },
   "outputs": [
    {
     "data": {
      "text/html": [
       "<p><strong><pre style='display: inline;'>q1_4</pre></strong> passed! 🚀</p>"
      ],
      "text/plain": [
       "q1_4 results: All test cases passed!"
      ]
     },
     "execution_count": 46,
     "metadata": {},
     "output_type": "execute_result"
    }
   ],
   "source": [
    "grader.check(\"q1_4\")"
   ]
  },
  {
   "cell_type": "markdown",
   "id": "23968898",
   "metadata": {},
   "source": [
    "<!-- END QUESTION -->\n",
    "\n",
    "**Question 1.5.** Use your resampled slopes to construct an 95% confidence interval for the true value of the slope. **(8 points)**\n"
   ]
  },
  {
   "cell_type": "code",
   "execution_count": 47,
   "id": "a7ec812f",
   "metadata": {
    "ExecuteTime": {
     "end_time": "2018-04-11T12:05:53.077324Z",
     "start_time": "2018-04-11T12:05:53.072310Z"
    },
    "deletable": false,
    "tags": []
   },
   "outputs": [
    {
     "name": "stdout",
     "output_type": "stream",
     "text": [
      "95% confidence interval for slope: [0.609704, 0.825851]\n"
     ]
    }
   ],
   "source": [
    "lower_end = percentile(2.5, resampled_slopes)\n",
    "upper_end = percentile(97.5, resampled_slopes)\n",
    "print(\"95% confidence interval for slope: [{:g}, {:g}]\".format(lower_end, upper_end))"
   ]
  },
  {
   "cell_type": "code",
   "execution_count": 48,
   "id": "105e2424",
   "metadata": {
    "deletable": false,
    "editable": false
   },
   "outputs": [
    {
     "data": {
      "text/html": [
       "<p><strong><pre style='display: inline;'>q1_5</pre></strong> passed! 🚀</p>"
      ],
      "text/plain": [
       "q1_5 results: All test cases passed!"
      ]
     },
     "execution_count": 48,
     "metadata": {},
     "output_type": "execute_result"
    }
   ],
   "source": [
    "grader.check(\"q1_5\")"
   ]
  },
  {
   "cell_type": "markdown",
   "id": "2728c55a",
   "metadata": {},
   "source": [
    "<!-- BEGIN QUESTION -->\n",
    "\n",
    "**Question 1.6.** Based on your confidence interval, would you accept or reject the null hypothesis that the true slope is 0?  Why?  What p-value cutoff are you using? **(8 points)**\n"
   ]
  },
  {
   "cell_type": "markdown",
   "id": "81315c23",
   "metadata": {},
   "source": [
    "Using a 5% p-value cutoff, I would reject the null hypothesis that the true slope is 0. This is because, even with the 95% confidence interval added, neither percentile value is less than or equal to 5%. In other words, in 95% of cases, the true slope is estimated to not be 0, even in the 5% extreme cases when using a 95% confidence interval."
   ]
  },
  {
   "cell_type": "markdown",
   "id": "196edfbd",
   "metadata": {},
   "source": [
    "<!-- END QUESTION -->\n",
    "\n",
    "<!-- BEGIN QUESTION -->\n",
    "\n",
    "**Question 1.7.** What do you think the true slope is? You do not need an exact number. How confident are you of this estimate? **(8 points)**\n",
    "\n",
    "*Hint:* Can you provide an interval that you think the true slope falls in?\n"
   ]
  },
  {
   "cell_type": "markdown",
   "id": "7bbfe596",
   "metadata": {},
   "source": [
    "I think the true slope is somewhere between 0.60 and 0.82. I am very confident of this estimate because of the confidence interval placed on the bootstrapped sample, and that the p-value cutoff is generous. I am sure also that the confidence is above both 0 and 0.5."
   ]
  },
  {
   "cell_type": "markdown",
   "id": "b90c9fa3",
   "metadata": {},
   "source": [
    "<!-- END QUESTION -->\n",
    "\n",
    "## 2. Finding the Bootstrap Prediction Interval"
   ]
  },
  {
   "cell_type": "markdown",
   "id": "12d2767c",
   "metadata": {},
   "source": [
    "Suppose we're visiting Point Reyes and stumble upon some Snowy Plover eggs; we'd like to know how heavy they'll be once they hatch. In other words, we want to use our regression line to make predictions about a bird's weight based on the weight of the corresponding egg.\n",
    "\n",
    "However, just as we're uncertain about the slope of the true regression line, we're also uncertain about the predictions made based on the true regression line."
   ]
  },
  {
   "cell_type": "markdown",
   "id": "615c2716",
   "metadata": {},
   "source": [
    "**Question 2.1.** Define the function `fitted_value`.  It should take in four arguments:\n",
    "\n",
    "1. `table`: a table like `birds`.  We'll be predicting the values in the second column using the first.\n",
    "2. `x_col`: the name of our x-column within the input `table`\n",
    "3. `y_col`: the name of our y-column within the input `table`\n",
    "2. `given_x`: a number, the value of the predictor variable for which we'd like to make a prediction.\n",
    "  \n",
    "The function should return the line’s prediction for the given x. **(8 points)**\n",
    "\n",
    "*Hint:* Make sure to use the `fit_line` function you defined in Question 1.3.\n"
   ]
  },
  {
   "cell_type": "code",
   "execution_count": 49,
   "id": "6a5a8f1c",
   "metadata": {
    "ExecuteTime": {
     "end_time": "2018-04-11T12:05:53.935846Z",
     "start_time": "2018-04-11T12:05:53.927826Z"
    },
    "for_assignment_type": "solution",
    "tags": []
   },
   "outputs": [
    {
     "data": {
      "text/plain": [
       "5.689850497215146"
      ]
     },
     "execution_count": 49,
     "metadata": {},
     "output_type": "execute_result"
    }
   ],
   "source": [
    "def fitted_value(table, x_col, y_col, given_x):\n",
    "    line = fit_line(table, x_col, y_col)\n",
    "    slope = line.item(0)\n",
    "    intercept = line.item(1)\n",
    "    return given_x * slope + intercept\n",
    "\n",
    "# Here's an example of how fitted_value is used. The code below\n",
    "# computes the prediction for the bird weight, in grams, based on\n",
    "# an egg weight of 8 grams.\n",
    "egg_weight_eight = fitted_value(birds, \"Egg Weight\", \"Bird Weight\", 8)\n",
    "egg_weight_eight"
   ]
  },
  {
   "cell_type": "code",
   "execution_count": 50,
   "id": "a75fd310",
   "metadata": {
    "deletable": false,
    "editable": false
   },
   "outputs": [
    {
     "data": {
      "text/html": [
       "<p><strong><pre style='display: inline;'>q2_1</pre></strong> passed! 🚀</p>"
      ],
      "text/plain": [
       "q2_1 results: All test cases passed!"
      ]
     },
     "execution_count": 50,
     "metadata": {},
     "output_type": "execute_result"
    }
   ],
   "source": [
    "grader.check(\"q2_1\")"
   ]
  },
  {
   "cell_type": "markdown",
   "id": "f6fd5f29",
   "metadata": {},
   "source": [
    "**Question 2.2.** Raymond, the resident Snowy Plover expert at Point Reyes, tells us that the egg he has been carefully observing has a weight of 9 grams. Using `fitted_value` above, assign the variable `experts_egg` to the predicted bird weight for Raymond's egg. \n"
   ]
  },
  {
   "cell_type": "code",
   "execution_count": 51,
   "id": "e171c8d3",
   "metadata": {
    "ExecuteTime": {
     "end_time": "2018-04-11T12:05:54.430725Z",
     "start_time": "2018-04-11T12:05:54.424720Z"
    },
    "deletable": false,
    "tags": []
   },
   "outputs": [
    {
     "data": {
      "text/plain": [
       "6.408365842108825"
      ]
     },
     "execution_count": 51,
     "metadata": {},
     "output_type": "execute_result"
    }
   ],
   "source": [
    "experts_egg = fitted_value(birds, 'Egg Weight', 'Bird Weight', 9)\n",
    "experts_egg"
   ]
  },
  {
   "cell_type": "code",
   "execution_count": 52,
   "id": "68f08d5e",
   "metadata": {
    "deletable": false,
    "editable": false
   },
   "outputs": [
    {
     "data": {
      "text/html": [
       "<p><strong><pre style='display: inline;'>q2_2</pre></strong> passed! ✨</p>"
      ],
      "text/plain": [
       "q2_2 results: All test cases passed!"
      ]
     },
     "execution_count": 52,
     "metadata": {},
     "output_type": "execute_result"
    }
   ],
   "source": [
    "grader.check(\"q2_2\")"
   ]
  },
  {
   "cell_type": "code",
   "execution_count": 53,
   "id": "bfdd3a9e",
   "metadata": {
    "scrolled": true
   },
   "outputs": [
    {
     "data": {
      "text/plain": [
       "44"
      ]
     },
     "execution_count": 53,
     "metadata": {},
     "output_type": "execute_result"
    }
   ],
   "source": [
    "# Let's look at the number of rows in the birds table.\n",
    "birds.num_rows"
   ]
  },
  {
   "cell_type": "markdown",
   "id": "04ac6c32",
   "metadata": {},
   "source": [
    "A fellow parkgoer raises the following objection to your prediction:\n",
    "\n",
    "> \"Your prediction depends on your sample of 44 birds.  Wouldn't your prediction change if you had a different sample of 44 birds?\"\n",
    "\n",
    "Having read section [16.3](https://inferentialthinking.com/chapters/16/3/Prediction_Intervals.html) of the textbook, you know just the response! Had the sample been different, the regression line would have been different too. This would ultimately result in a different prediction. To see how good our prediction is, we must get a sense of how variable the prediction can be."
   ]
  },
  {
   "cell_type": "markdown",
   "id": "ba12a854",
   "metadata": {},
   "source": [
    "**Question 2.3.** Define a function `compute_resampled_line` that takes in a table `tbl`and two column names, `x_col` and `y_col`, and returns an array containing the parameters of the best fit line (slope and intercept) for one bootstrapped resample of the table.\n"
   ]
  },
  {
   "cell_type": "code",
   "execution_count": 54,
   "id": "306be878",
   "metadata": {
    "tags": []
   },
   "outputs": [],
   "source": [
    "def compute_resampled_line(tbl, x_col, y_col):\n",
    "    resample = tbl.select(x_col, y_col).sample()\n",
    "    resampled_line = fit_line(resample, x_col, y_col)\n",
    "    return make_array(resampled_line.item(0), resampled_line.item(1))"
   ]
  },
  {
   "cell_type": "code",
   "execution_count": 55,
   "id": "01a4823c",
   "metadata": {
    "deletable": false,
    "editable": false
   },
   "outputs": [
    {
     "data": {
      "text/html": [
       "<p><strong><pre style='display: inline;'>q2_3</pre></strong> passed! 💯</p>"
      ],
      "text/plain": [
       "q2_3 results: All test cases passed!"
      ]
     },
     "execution_count": 55,
     "metadata": {},
     "output_type": "execute_result"
    }
   ],
   "source": [
    "grader.check(\"q2_3\")"
   ]
  },
  {
   "cell_type": "markdown",
   "id": "41d9ca32",
   "metadata": {},
   "source": [
    "**Run** the following cell below in order to define the function `bootstrap_lines`.  It takes in four arguments:\n",
    "1. `tbl`: a table like `birds`\n",
    "2. `x_col`: the name of our x-column within the input `tbl`\n",
    "3. `y_col`: the name of our y-column within the input `tbl`\n",
    "4. `num_bootstraps`: an integer, a number of bootstraps to run.\n",
    "\n",
    "It returns a *table* with one row for each bootstrap resample and the following two columns:\n",
    "1. `Slope`: the bootstrapped slopes \n",
    "2. `Intercept`: the corresponding bootstrapped intercepts "
   ]
  },
  {
   "cell_type": "code",
   "execution_count": 56,
   "id": "a5bee85f",
   "metadata": {
    "ExecuteTime": {
     "end_time": "2018-04-11T12:05:55.698074Z",
     "start_time": "2018-04-11T12:05:55.243866Z"
    },
    "for_assignment_type": "solution"
   },
   "outputs": [
    {
     "data": {
      "text/html": [
       "<table border=\"1\" class=\"dataframe\">\n",
       "    <thead>\n",
       "        <tr>\n",
       "            <th>Slope</th> <th>Intercept</th>\n",
       "        </tr>\n",
       "    </thead>\n",
       "    <tbody>\n",
       "        <tr>\n",
       "            <td>0.792692</td> <td>-0.651329 </td>\n",
       "        </tr>\n",
       "        <tr>\n",
       "            <td>0.789461</td> <td>-0.634459 </td>\n",
       "        </tr>\n",
       "        <tr>\n",
       "            <td>0.720618</td> <td>-0.0916327</td>\n",
       "        </tr>\n",
       "        <tr>\n",
       "            <td>0.728494</td> <td>-0.0942908</td>\n",
       "        </tr>\n",
       "        <tr>\n",
       "            <td>0.656761</td> <td>0.487129  </td>\n",
       "        </tr>\n",
       "        <tr>\n",
       "            <td>0.697634</td> <td>0.119692  </td>\n",
       "        </tr>\n",
       "        <tr>\n",
       "            <td>0.767775</td> <td>-0.465156 </td>\n",
       "        </tr>\n",
       "        <tr>\n",
       "            <td>0.706489</td> <td>0.0554471 </td>\n",
       "        </tr>\n",
       "        <tr>\n",
       "            <td>0.777417</td> <td>-0.514867 </td>\n",
       "        </tr>\n",
       "        <tr>\n",
       "            <td>0.716442</td> <td>-0.108755 </td>\n",
       "        </tr>\n",
       "    </tbody>\n",
       "</table>\n",
       "<p>... (990 rows omitted)</p>"
      ],
      "text/plain": [
       "Slope    | Intercept\n",
       "0.792692 | -0.651329\n",
       "0.789461 | -0.634459\n",
       "0.720618 | -0.0916327\n",
       "0.728494 | -0.0942908\n",
       "0.656761 | 0.487129\n",
       "0.697634 | 0.119692\n",
       "0.767775 | -0.465156\n",
       "0.706489 | 0.0554471\n",
       "0.777417 | -0.514867\n",
       "0.716442 | -0.108755\n",
       "... (990 rows omitted)"
      ]
     },
     "execution_count": 56,
     "metadata": {},
     "output_type": "execute_result"
    }
   ],
   "source": [
    "# Just run this cell\n",
    "def bootstrap_lines(tbl, x_col, y_col, num_bootstraps):\n",
    "    resampled_slopes = make_array()\n",
    "    resampled_intercepts = make_array() \n",
    "    for i in np.arange(num_bootstraps): \n",
    "        resampled_line = compute_resampled_line(tbl, x_col, y_col) \n",
    "        resampled_slope = resampled_line.item(0) \n",
    "        resampled_intercept = resampled_line.item(1) \n",
    "        resampled_slopes = np.append(resampled_slopes,resampled_slope)\n",
    "        resampled_intercepts = np.append(resampled_intercepts,resampled_intercept)\n",
    "    tbl_lines = Table().with_columns('Slope', resampled_slopes, 'Intercept', resampled_intercepts)\n",
    "    return tbl_lines\n",
    "\n",
    "regression_lines = bootstrap_lines(birds, \"Egg Weight\", \"Bird Weight\", 1000)\n",
    "regression_lines"
   ]
  },
  {
   "cell_type": "markdown",
   "id": "4d9cc72c",
   "metadata": {},
   "source": [
    "<!-- BEGIN QUESTION -->\n",
    "\n",
    "**Question 2.4.** Create an array called `predictions_for_eight` that contains the predicted bird weights based on an egg of weight 8 grams for each regression line in `regression_lines`. **(8 points)**\n"
   ]
  },
  {
   "cell_type": "code",
   "execution_count": 57,
   "id": "f633e6be",
   "metadata": {
    "ExecuteTime": {
     "end_time": "2018-04-11T12:05:55.991855Z",
     "start_time": "2018-04-11T12:05:55.759236Z"
    },
    "deletable": false,
    "scrolled": true,
    "tags": []
   },
   "outputs": [
    {
     "data": {
      "image/png": "[encoded data removed]",
      "text/plain": [
       "<Figure size 600x400 with 1 Axes>"
      ]
     },
     "metadata": {},
     "output_type": "display_data"
    }
   ],
   "source": [
    "predictions_for_eight = 8*regression_lines.column(0) + regression_lines.column(1)\n",
    "\n",
    "# This will make a histogram of your predictions:\n",
    "table_of_predictions = Table().with_column('Predictions at Egg Weight=8', predictions_for_eight)\n",
    "table_of_predictions.hist('Predictions at Egg Weight=8', bins=20)"
   ]
  },
  {
   "cell_type": "code",
   "execution_count": 58,
   "id": "11d9d6a1",
   "metadata": {
    "deletable": false,
    "editable": false
   },
   "outputs": [
    {
     "data": {
      "text/html": [
       "<p><strong><pre style='display: inline;'>q2_4</pre></strong> passed! 🍀</p>"
      ],
      "text/plain": [
       "q2_4 results: All test cases passed!"
      ]
     },
     "execution_count": 58,
     "metadata": {},
     "output_type": "execute_result"
    }
   ],
   "source": [
    "grader.check(\"q2_4\")"
   ]
  },
  {
   "cell_type": "markdown",
   "id": "623efdb4",
   "metadata": {},
   "source": [
    "<!-- END QUESTION -->\n",
    "\n",
    "**Question 2.5.** Create an approximate 95% confidence interval for these predictions. **(6 points)**\n"
   ]
  },
  {
   "cell_type": "code",
   "execution_count": 59,
   "id": "feaac597",
   "metadata": {
    "ExecuteTime": {
     "end_time": "2018-04-11T12:05:56.097136Z",
     "start_time": "2018-04-11T12:05:56.089117Z"
    },
    "deletable": false,
    "scrolled": true,
    "tags": []
   },
   "outputs": [
    {
     "name": "stdout",
     "output_type": "stream",
     "text": [
      "95% Confidence interval for predictions for x=8: ( 5.62123309985 , 5.7642320148 )\n"
     ]
    }
   ],
   "source": [
    "lower_bound = percentile(2.5, predictions_for_eight)\n",
    "upper_bound = percentile(97.5, predictions_for_eight)\n",
    "\n",
    "print('95% Confidence interval for predictions for x=8: (', lower_bound,\",\", upper_bound, ')')"
   ]
  },
  {
   "cell_type": "code",
   "execution_count": 60,
   "id": "6e7f6203",
   "metadata": {
    "deletable": false,
    "editable": false
   },
   "outputs": [
    {
     "data": {
      "text/html": [
       "<p><strong><pre style='display: inline;'>q2_5</pre></strong> passed! 🎉</p>"
      ],
      "text/plain": [
       "q2_5 results: All test cases passed!"
      ]
     },
     "execution_count": 60,
     "metadata": {},
     "output_type": "execute_result"
    }
   ],
   "source": [
    "grader.check(\"q2_5\")"
   ]
  },
  {
   "cell_type": "markdown",
   "id": "1d213562",
   "metadata": {},
   "source": [
    "**Question 2.6.** Set `plover_statements` to an array of integer(s) that correspond to statement(s) that are true. **(6 points)**\n",
    "\n",
    "1. The 95% confidence interval covers 95% of the bird weights for eggs that had a weight of eight grams in `birds`.\n",
    "\n",
    "2. The 95% confidence interval gives a sense of how much actual weights differ from your prediction.\n",
    "\n",
    "3. The 95% confidence interval quantifies the uncertainty in our estimate of what the true line would predict.\n"
   ]
  },
  {
   "cell_type": "code",
   "execution_count": 61,
   "id": "c6f8576c",
   "metadata": {
    "ExecuteTime": {
     "end_time": "2018-04-11T12:05:56.479878Z",
     "start_time": "2018-04-11T12:05:56.476869Z"
    },
    "deletable": false,
    "tags": []
   },
   "outputs": [],
   "source": [
    "plover_statements = make_array(2, 3)"
   ]
  },
  {
   "cell_type": "code",
   "execution_count": 62,
   "id": "31aebecd",
   "metadata": {
    "deletable": false,
    "editable": false
   },
   "outputs": [
    {
     "data": {
      "text/html": [
       "<p><strong><pre style='display: inline;'>q2_6</pre></strong> passed! 🌟</p>"
      ],
      "text/plain": [
       "q2_6 results: All test cases passed!"
      ]
     },
     "execution_count": 62,
     "metadata": {},
     "output_type": "execute_result"
    }
   ],
   "source": [
    "grader.check(\"q2_6\")"
   ]
  },
  {
   "cell_type": "markdown",
   "id": "198e6661",
   "metadata": {},
   "source": [
    "You're done with Homework 11!  \n",
    "\n",
    "**Important submission steps:** \n",
    "1. Run the tests and verify that they all pass.\n",
    "2. Choose **Save Notebook** from the **File** menu, then **run the final cell**. \n",
    "3. Click the link to download the zip file.\n",
    "4. Then submit the zip file to the corresponding assignment according to your instructor's directions. \n",
    "\n",
    "**It is your responsibility to make sure your work is saved before running the last cell.**"
   ]
  },
  {
   "cell_type": "markdown",
   "id": "56cff11e",
   "metadata": {
    "deletable": false,
    "editable": false
   },
   "source": [
    "## Submission\n",
    "\n",
    "Make sure you have run all cells in your notebook in order before running the cell below, so that all images/graphs appear in the output. The cell below will generate a zip file for you to submit. **Please save before exporting!**"
   ]
  },
  {
   "cell_type": "code",
   "execution_count": 63,
   "id": "cdff3d62",
   "metadata": {
    "deletable": false,
    "editable": false
   },
   "outputs": [
    {
     "name": "stdout",
     "output_type": "stream",
     "text": [
      "Running your submission against local test cases...\n",
      "\n",
      "\n",
      "\n",
      "Your submission received the following results when run against available test cases:\n",
      "\n",
      "    q1_2 results: All test cases passed!\n",
      "\n",
      "    q1_3 results: All test cases passed!\n",
      "\n",
      "    q1_4 results: All test cases passed!\n",
      "\n",
      "    q1_5 results: All test cases passed!\n",
      "\n",
      "    q2_1 results: All test cases passed!\n",
      "\n",
      "    q2_2 results: All test cases passed!\n",
      "\n",
      "    q2_3 results: All test cases passed!\n",
      "\n",
      "    q2_4 results: All test cases passed!\n",
      "\n",
      "    q2_5 results: All test cases passed!\n",
      "\n",
      "    q2_6 results: All test cases passed!\n"
     ]
    },
    {
     "data": {
      "text/html": [
       "\n",
       "            <p>Your submission has been exported. Click <a href=\"hw11_2024_11_18T09_14_08_375499.zip\" download=\"hw11_2024_11_18T09_14_08_375499.zip\" target=\"_blank\">here</a>\n",
       "            to download the zip file.</p>\n",
       "            "
      ],
      "text/plain": [
       "<IPython.core.display.HTML object>"
      ]
     },
     "metadata": {},
     "output_type": "display_data"
    }
   ],
   "source": [
    "# Save your notebook first, then run this cell to export your submission.\n",
    "grader.export(pdf=False, run_tests=True)"
   ]
  },
  {
   "cell_type": "markdown",
   "id": "da1d6621",
   "metadata": {},
   "source": [
    " "
   ]
  }
 ],
 "metadata": {
  "kernelspec": {
   "display_name": "Python 3 (ipykernel)",
   "language": "python",
   "name": "python3"
  },
  "language_info": {
   "codemirror_mode": {
    "name": "ipython",
    "version": 3
   },
   "file_extension": ".py",
   "mimetype": "text/x-python",
   "name": "python",
   "nbconvert_exporter": "python",
   "pygments_lexer": "ipython3",
   "version": "3.10.11"
  },
  "otter": {
   "OK_FORMAT": true,
   "tests": {
    "q1_2": {
     "name": "q1_2",
     "points": [
      0
     ],
     "suites": [
      {
       "cases": [
        {
         "code": ">>> # Ensure your correlation function returns one number between -1 and 1\n>>> abs(correlation(Table().with_columns('a', np.random.normal(0, 1, 10),'b', np.random.normal(0, 1, 10)), \"a\", \"b\")) <= 1\nTrue",
         "hidden": false,
         "locked": false
        }
       ],
       "scored": true,
       "setup": "",
       "teardown": "",
       "type": "doctest"
      }
     ]
    },
    "q1_3": {
     "name": "q1_3",
     "points": [
      0,
      0,
      2
     ],
     "suites": [
      {
       "cases": [
        {
         "code": ">>> type(fit_line(Table().with_columns('x', make_array(0, 1), 'y', make_array(1, 3)), \"x\", \"y\")) == np.ndarray\nTrue",
         "hidden": false,
         "locked": false
        },
        {
         "code": ">>> len(fit_line(Table().with_columns('x', make_array(0, 1), 'y', make_array(1, 3)), \"x\", \"y\")) == 2\nTrue",
         "hidden": false,
         "locked": false
        },
        {
         "code": ">>> np.allclose(np.round(fit_line(Table().with_columns('x', make_array(0, 1), 'y', make_array(1, 3)), \"x\", \"y\"), 5), np.array([2, 1]))\nTrue",
         "hidden": false,
         "locked": false
        }
       ],
       "scored": true,
       "setup": "",
       "teardown": "",
       "type": "doctest"
      }
     ]
    },
    "q1_4": {
     "name": "q1_4",
     "points": null,
     "suites": [
      {
       "cases": [
        {
         "code": ">>> len(resampled_slopes) == 1000\nTrue",
         "hidden": false,
         "locked": false
        }
       ],
       "scored": true,
       "setup": "",
       "teardown": "",
       "type": "doctest"
      }
     ]
    },
    "q1_5": {
     "name": "q1_5",
     "points": [
      0,
      0
     ],
     "suites": [
      {
       "cases": [
        {
         "code": ">>> lower_end > 0\nTrue",
         "hidden": false,
         "locked": false
        },
        {
         "code": ">>> upper_end < 4\nTrue",
         "hidden": false,
         "locked": false
        }
       ],
       "scored": true,
       "setup": "",
       "teardown": "",
       "type": "doctest"
      }
     ]
    },
    "q2_1": {
     "name": "q2_1",
     "points": [
      0
     ],
     "suites": [
      {
       "cases": [
        {
         "code": ">>> type(egg_weight_eight) in set([float, np.float32, np.float64])\nTrue",
         "hidden": false,
         "locked": false
        }
       ],
       "scored": true,
       "setup": "",
       "teardown": "",
       "type": "doctest"
      }
     ]
    },
    "q2_2": {
     "name": "q2_2",
     "points": [
      0
     ],
     "suites": [
      {
       "cases": [
        {
         "code": ">>> type(experts_egg) in set([float, np.float32, np.float64])\nTrue",
         "hidden": false,
         "locked": false
        }
       ],
       "scored": true,
       "setup": "",
       "teardown": "",
       "type": "doctest"
      }
     ]
    },
    "q2_3": {
     "name": "q2_3",
     "points": [
      0
     ],
     "suites": [
      {
       "cases": [
        {
         "code": ">>> len(compute_resampled_line(Table().with_columns('x', make_array(0, 1), 'y', make_array(1, 3)), \"x\", \"y\")) == 2\nTrue",
         "hidden": false,
         "locked": false
        }
       ],
       "scored": true,
       "setup": "",
       "teardown": "",
       "type": "doctest"
      }
     ]
    },
    "q2_4": {
     "name": "q2_4",
     "points": null,
     "suites": [
      {
       "cases": [
        {
         "code": ">>> len(predictions_for_eight) == regression_lines.num_rows\nTrue",
         "hidden": false,
         "locked": false
        }
       ],
       "scored": true,
       "setup": "",
       "teardown": "",
       "type": "doctest"
      }
     ]
    },
    "q2_5": {
     "name": "q2_5",
     "points": [
      0,
      0
     ],
     "suites": [
      {
       "cases": [
        {
         "code": ">>> lower_bound > 5\nTrue",
         "hidden": false,
         "locked": false
        },
        {
         "code": ">>> upper_bound < 6.5\nTrue",
         "hidden": false,
         "locked": false
        }
       ],
       "scored": true,
       "setup": "",
       "teardown": "",
       "type": "doctest"
      }
     ]
    },
    "q2_6": {
     "name": "q2_6",
     "points": [
      0
     ],
     "suites": [
      {
       "cases": [
        {
         "code": ">>> type(plover_statements) == np.ndarray\nTrue",
         "hidden": false,
         "locked": false
        }
       ],
       "scored": true,
       "setup": "",
       "teardown": "",
       "type": "doctest"
      }
     ]
    }
   }
  }
 },
 "nbformat": 4,
 "nbformat_minor": 5
}
