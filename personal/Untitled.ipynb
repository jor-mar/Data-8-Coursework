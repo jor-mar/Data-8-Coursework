{
 "cells": [
  {
   "cell_type": "code",
   "execution_count": 11,
   "id": "baf2ce8a",
   "metadata": {},
   "outputs": [],
   "source": [
    "from datascience import *\n",
    "from urllib.request import urlopen\n",
    "import numpy as np\n",
    "%matplotlib inline\n",
    "\n",
    "odd_array = make_array(1, 3, 5, 7)\n",
    "even_array = np.arange(2, 10, 2)"
   ]
  },
  {
   "cell_type": "code",
   "execution_count": 12,
   "id": "6c9aa32c",
   "metadata": {},
   "outputs": [
    {
     "data": {
      "text/plain": [
       "array([ 3,  7, 11, 15])"
      ]
     },
     "execution_count": 12,
     "metadata": {},
     "output_type": "execute_result"
    }
   ],
   "source": [
    "odd_array + even_array"
   ]
  },
  {
   "cell_type": "code",
   "execution_count": 13,
   "id": "b4d5f382",
   "metadata": {},
   "outputs": [
    {
     "data": {
      "text/plain": [
       "24"
      ]
     },
     "execution_count": 13,
     "metadata": {},
     "output_type": "execute_result"
    }
   ],
   "source": [
    "even_array.item(3) * odd_array.item(1)"
   ]
  },
  {
   "cell_type": "code",
   "execution_count": 14,
   "id": "42ae81fe",
   "metadata": {},
   "outputs": [
    {
     "data": {
      "text/plain": [
       "5"
      ]
     },
     "execution_count": 14,
     "metadata": {},
     "output_type": "execute_result"
    }
   ],
   "source": [
    "odd_array.item(2)"
   ]
  },
  {
   "cell_type": "code",
   "execution_count": 18,
   "id": "5a72a8ba",
   "metadata": {},
   "outputs": [
    {
     "data": {
      "text/html": [
       "<table border=\"1\" class=\"dataframe\">\n",
       "    <thead>\n",
       "        <tr>\n",
       "            <th>Auction_ID</th> <th>Item</th> <th>Opening_Bid</th> <th>Closing_Price</th>\n",
       "        </tr>\n",
       "    </thead>\n",
       "    <tbody>\n",
       "        <tr>\n",
       "            <td>1         </td> <td>Jacket    </td> <td>50         </td> <td>75           </td>\n",
       "        </tr>\n",
       "        <tr>\n",
       "            <td>2         </td> <td>Smartwatch</td> <td>100        </td> <td>150          </td>\n",
       "        </tr>\n",
       "        <tr>\n",
       "            <td>3         </td> <td>Tablet    </td> <td>350        </td> <td>600          </td>\n",
       "        </tr>\n",
       "    </tbody>\n",
       "</table>"
      ],
      "text/plain": [
       "Auction_ID | Item       | Opening_Bid | Closing_Price\n",
       "1          | Jacket     | 50          | 75\n",
       "2          | Smartwatch | 100         | 150\n",
       "3          | Tablet     | 350         | 600"
      ]
     },
     "execution_count": 18,
     "metadata": {},
     "output_type": "execute_result"
    }
   ],
   "source": [
    "tbl = Table().with_columns(\n",
    "    \"Auction_ID\", np.arange(1, 4, 1),\n",
    "    \"Item\", make_array(\"Jacket\", \"Smartwatch\", \"Tablet\"),\n",
    "    \"Opening_Bid\", make_array(50, 100, 350)\n",
    "    \"Closing_Price\", make_array(75, 150, 600)\n",
    ")\n",
    "tbl"
   ]
  },
  {
   "cell_type": "code",
   "execution_count": 21,
   "id": "1acdee39",
   "metadata": {},
   "outputs": [
    {
     "data": {
      "text/html": [
       "<table border=\"1\" class=\"dataframe\">\n",
       "    <thead>\n",
       "        <tr>\n",
       "            <th>Auction_ID</th> <th>Item</th> <th>Opening_Bid</th> <th>Closing_Price</th>\n",
       "        </tr>\n",
       "    </thead>\n",
       "    <tbody>\n",
       "        <tr>\n",
       "            <td>1         </td> <td>Jacket</td> <td>50         </td> <td>75           </td>\n",
       "        </tr>\n",
       "    </tbody>\n",
       "</table>"
      ],
      "text/plain": [
       "Auction_ID | Item   | Opening_Bid | Closing_Price\n",
       "1          | Jacket | 50          | 75"
      ]
     },
     "execution_count": 21,
     "metadata": {},
     "output_type": "execute_result"
    }
   ],
   "source": [
    "jackets_under_price = tbl.where(\"Item\", are.equal_to(\"Jacket\")).where(\"Closing_Price\", are.below(150))\n",
    "jackets_under_price"
   ]
  }
 ],
 "metadata": {
  "kernelspec": {
   "display_name": "Python 3 (ipykernel)",
   "language": "python",
   "name": "python3"
  },
  "language_info": {
   "codemirror_mode": {
    "name": "ipython",
    "version": 3
   },
   "file_extension": ".py",
   "mimetype": "text/x-python",
   "name": "python",
   "nbconvert_exporter": "python",
   "pygments_lexer": "ipython3",
   "version": "3.10.11"
  }
 },
 "nbformat": 4,
 "nbformat_minor": 5
}
