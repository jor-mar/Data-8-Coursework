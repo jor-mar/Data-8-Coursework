{
 "cells": [
  {
   "cell_type": "code",
   "execution_count": 2,
   "id": "412204ac",
   "metadata": {},
   "outputs": [],
   "source": [
    "from datascience import *\n",
    "from urllib.request import urlopen\n",
    "import numpy as np\n",
    "%matplotlib inline\n",
    "import math"
   ]
  },
  {
   "cell_type": "code",
   "execution_count": 1,
   "id": "008a7ae2",
   "metadata": {},
   "outputs": [],
   "source": [
    "import numpy as np\n",
    "from datascience import *\n",
    "\n",
    "import matplotlib\n",
    "%matplotlib inline\n",
    "import matplotlib.pyplot as plt\n",
    "plt.style.use('fivethirtyeight')\n",
    "import warnings\n",
    "warnings.simplefilter('ignore', FutureWarning)\n",
    "from matplotlib import patches\n",
    "from ipywidgets import interact, interactive, fixed\n",
    "import ipywidgets as widgets\n",
    "import math"
   ]
  },
  {
   "cell_type": "code",
   "execution_count": 21,
   "id": "242ecfc0",
   "metadata": {},
   "outputs": [
    {
     "data": {
      "text/plain": [
       "'Hash Browns'"
      ]
     },
     "execution_count": 21,
     "metadata": {},
     "output_type": "execute_result"
    }
   ],
   "source": [
    "categories = Table().with_columns('Item', make_array('Chicken Sandwich', 'Vanilla Milkshake', 'Potato Fries', 'Hash Browns'),\n",
    "                                 'Category', make_array('Entree', 'Treats', 'Sides', 'Breakfast'))\n",
    "nutrition = Table().with_columns('Item', make_array('Chicken Sandwich', 'Grilled Nuggets', 'Vanilla Milkshake', 'Potato Fries', 'Hash Browns'),\n",
    "                                'Fat', make_array(17,3,22,24,18),\n",
    "                                'Cal', make_array(440,130,550,420,270),\n",
    "                                'Carbs', make_array(41,1,76,45,23))\n",
    "chick = nutrition.join('Item', categories)\n",
    "cals = chick.where('Category', 'Breakfast').column('Cal')\n",
    "max_cals = max(cals)\n",
    "item = chick.where('Category', 'Breakfast').where('Cal', are.equal_to(max_cals)).column('Item').item(0)\n",
    "item"
   ]
  },
  {
   "cell_type": "code",
   "execution_count": 10,
   "id": "ebb94be3",
   "metadata": {},
   "outputs": [
    {
     "data": {
      "text/html": [
       "<table border=\"1\" class=\"dataframe\">\n",
       "    <thead>\n",
       "        <tr>\n",
       "            <th>Category</th> <th>Chick-fil-a</th> <th>McDonalds</th>\n",
       "        </tr>\n",
       "    </thead>\n",
       "    <tbody>\n",
       "        <tr>\n",
       "            <td>Breakfast</td> <td>1          </td> <td>2        </td>\n",
       "        </tr>\n",
       "        <tr>\n",
       "            <td>Entree   </td> <td>1          </td> <td>0        </td>\n",
       "        </tr>\n",
       "        <tr>\n",
       "            <td>Treats   </td> <td>1          </td> <td>1        </td>\n",
       "        </tr>\n",
       "    </tbody>\n",
       "</table>"
      ],
      "text/plain": [
       "Category  | Chick-fil-a | McDonalds\n",
       "Breakfast | 1           | 2\n",
       "Entree    | 1           | 0\n",
       "Treats    | 1           | 1"
      ]
     },
     "execution_count": 10,
     "metadata": {},
     "output_type": "execute_result"
    }
   ],
   "source": [
    "Store = make_array('Chick-fil-a','McDonalds','Chick-fil-a','McDonalds','Chick-fil-a','McDonalds')\n",
    "Item = make_array('Chicken Sandwich', 'EggMcMuffin', 'Vanilla Milkshake', 'Vanilla Milkshake', 'Hash Browns', 'Hotcakes')\n",
    "Fat = make_array(17, 13, 22, 13, 18, 15)\n",
    "Cal = make_array(440, 310, 550, 510, 270, 580)\n",
    "Carbs = make_array(41,30,76,84,23,101)\n",
    "Category = make_array('Entree', 'Breakfast', 'Treats', 'Treats', 'Breakfast', 'Breakfast')\n",
    "tbl = Table().with_columns('Store', Store,\n",
    "                          'Item', Item,\n",
    "                          'Fat', Fat,\n",
    "                          'Cal', Cal,\n",
    "                          'Carbs', Carbs,\n",
    "                          'Category', Category)\n",
    "tbl.pivot('Store', 'Category')"
   ]
  },
  {
   "cell_type": "code",
   "execution_count": 3,
   "id": "0bd9cd13",
   "metadata": {},
   "outputs": [
    {
     "data": {
      "text/plain": [
       "array([  1.,   3.,   5.,   7.,   9.,  11.,  13.,  15.,  17.,  19.,  21.,\n",
       "        23.,  25.])"
      ]
     },
     "execution_count": 3,
     "metadata": {},
     "output_type": "execute_result"
    }
   ],
   "source": [
    "def mystery(x):\n",
    "    nums = make_array()\n",
    "    for i in np.arange(1, x+1):\n",
    "        if i%2 == 1:\n",
    "            nums = np.append(nums, i)\n",
    "    return nums\n",
    "mystery(26)"
   ]
  },
  {
   "cell_type": "code",
   "execution_count": null,
   "id": "7a5e7122",
   "metadata": {},
   "outputs": [],
   "source": [
    "def one_simulation():\n",
    "    shuffled_labels = flies. .column(‘Elevation’) shuffled_flies = flies.drop(‘Elevation’).with_columns( , ) grouped = shuffled_flies. ( , ) means = grouped.column(‘Specimen length mean’) statistic =  return statistic "
   ]
  },
  {
   "cell_type": "code",
   "execution_count": null,
   "id": "2472d787",
   "metadata": {},
   "outputs": [],
   "source": [
    "results = make_array()\n",
    "def chance_of_failure(prob_failure):\n",
    "    return sample_proportions(1000, make_array(prob_failure, 1-prob_failure)).item(0)\n",
    "for i in range(1000):\n",
    "    results = np.append(results, np.average(sample_proportions(100, make_array(0.99, 0.01)).item(0)))\n",
    "res = Table().with_columns(\"FChance\", results)\n",
    "res.show(5)\n",
    "res.hist(bins = np.arange(0, 1, 0.05))\n",
    "plt.scatter(1/math.e, 0, color = 'red', s=100, zorder=2)"
   ]
  },
  {
   "cell_type": "code",
   "execution_count": 7,
   "id": "14e28812",
   "metadata": {},
   "outputs": [
    {
     "name": "stdout",
     "output_type": "stream",
     "text": [
      "0.0104\n"
     ]
    },
    {
     "data": {
      "image/png": "[encoded data removed]",
      "text/plain": [
       "<Figure size 600x400 with 1 Axes>"
      ]
     },
     "metadata": {},
     "output_type": "display_data"
    }
   ],
   "source": [
    "def flip_coin_10_times():\n",
    "    results = np.random.choice(make_array(\"heads\", \"tails\"), 10)\n",
    "    count = np.count_nonzero(results == \"heads\")\n",
    "    return count\n",
    "\n",
    "dist = make_array()\n",
    "tab = Table()\n",
    "for i in np.arange(10000):\n",
    "    dist = np.append(dist, flip_coin_10_times())\n",
    "tab = tab.with_columns(\"Trial #\", np.arange(10000),\n",
    "                      \"Heads\", dist)\n",
    "tab.hist(\"Heads\", bins = np.arange(0, 11, 1))\n",
    "print(np.count_nonzero(dist >=9)/len(dist))"
   ]
  },
  {
   "cell_type": "code",
   "execution_count": 5,
   "id": "5af52bd4",
   "metadata": {},
   "outputs": [
    {
     "name": "stdout",
     "output_type": "stream",
     "text": [
      "[0]\n",
      "2\n"
     ]
    },
    {
     "data": {
      "text/html": [
       "<table border=\"1\" class=\"dataframe\">\n",
       "    <thead>\n",
       "        <tr>\n",
       "            <th>Coin flip trial (10)</th> <th>Heads</th>\n",
       "        </tr>\n",
       "    </thead>\n",
       "    <tbody>\n",
       "        <tr>\n",
       "            <td>0                   </td> <td>0    </td>\n",
       "        </tr>\n",
       "        <tr>\n",
       "            <td>1                   </td> <td>3    </td>\n",
       "        </tr>\n",
       "        <tr>\n",
       "            <td>2                   </td> <td>0    </td>\n",
       "        </tr>\n",
       "        <tr>\n",
       "            <td>3                   </td> <td>2    </td>\n",
       "        </tr>\n",
       "        <tr>\n",
       "            <td>4                   </td> <td>0    </td>\n",
       "        </tr>\n",
       "    </tbody>\n",
       "</table>\n",
       "<p>... (995 rows omitted)</p>"
      ],
      "text/plain": [
       "<IPython.core.display.HTML object>"
      ]
     },
     "metadata": {},
     "output_type": "display_data"
    }
   ],
   "source": [
    "def flip_coin_10_times():\n",
    "    results = np.random.choice(make_array(\"heads\", \"tails\"), 10)\n",
    "    count = 0\n",
    "    for x in results:\n",
    "        if x == \"heads\":\n",
    "            count += 1\n",
    "    return count\n",
    "\n",
    "trials = flip_coin_10_times()\n",
    "abs_differences = make_array(abs(trials-5))\n",
    "print(abs_differences)\n",
    "for _ in np.arange(999):\n",
    "    abs_diff_one_trial = abs(flip_coin_10_times()-5)\n",
    "    abs_differences = np.append(abs_differences, abs_diff_one_trial)\n",
    "print(abs_differences.item(3))\n",
    "trial_table = Table().with_columns(\"Coin flip trial (10)\", np.arange(1000),\n",
    "                    \"Heads\", abs_differences)\n",
    "trial_table.show(5)"
   ]
  },
  {
   "cell_type": "code",
   "execution_count": 4,
   "id": "df488db3",
   "metadata": {},
   "outputs": [
    {
     "data": {
      "text/html": [
       "<table border=\"1\" class=\"dataframe\">\n",
       "    <thead>\n",
       "        <tr>\n",
       "            <th>Color</th> <th>Shape</th> <th>Amount</th> <th>Price ($)</th>\n",
       "        </tr>\n",
       "    </thead>\n",
       "    <tbody>\n",
       "        <tr>\n",
       "            <td>Dark </td> <td>Round      </td> <td>4     </td> <td>1.3      </td>\n",
       "        </tr>\n",
       "        <tr>\n",
       "            <td>Milk </td> <td>Rectangular</td> <td>6     </td> <td>1.2      </td>\n",
       "        </tr>\n",
       "        <tr>\n",
       "            <td>White</td> <td>Rectangular</td> <td>12    </td> <td>2        </td>\n",
       "        </tr>\n",
       "        <tr>\n",
       "            <td>Dark </td> <td>Round      </td> <td>7     </td> <td>1.75     </td>\n",
       "        </tr>\n",
       "        <tr>\n",
       "            <td>Milk </td> <td>Rectangular</td> <td>9     </td> <td>1.4      </td>\n",
       "        </tr>\n",
       "        <tr>\n",
       "            <td>Milk </td> <td>Round      </td> <td>2     </td> <td>1        </td>\n",
       "        </tr>\n",
       "    </tbody>\n",
       "</table>"
      ],
      "text/plain": [
       "<IPython.core.display.HTML object>"
      ]
     },
     "metadata": {},
     "output_type": "display_data"
    },
    {
     "data": {
      "text/html": [
       "<table border=\"1\" class=\"dataframe\">\n",
       "    <thead>\n",
       "        <tr>\n",
       "            <th>Type</th> <th>Calories</th>\n",
       "        </tr>\n",
       "    </thead>\n",
       "    <tbody>\n",
       "        <tr>\n",
       "            <td>Dark </td> <td>120     </td>\n",
       "        </tr>\n",
       "        <tr>\n",
       "            <td>Milk </td> <td>130     </td>\n",
       "        </tr>\n",
       "        <tr>\n",
       "            <td>White</td> <td>115     </td>\n",
       "        </tr>\n",
       "        <tr>\n",
       "            <td>Ruby </td> <td>120     </td>\n",
       "        </tr>\n",
       "    </tbody>\n",
       "</table>"
      ],
      "text/plain": [
       "<IPython.core.display.HTML object>"
      ]
     },
     "metadata": {},
     "output_type": "display_data"
    }
   ],
   "source": [
    "chocolates = Table().with_columns(\"Color\", [\"Dark\", \"Milk\", \"White\", \"Dark\", \"Milk\", \"Milk\"],\n",
    "                                 \"Shape\", [\"Round\", \"Rectangular\", \"Rectangular\", \"Round\", \"Rectangular\", \"Round\"],\n",
    "                                 \"Amount\", [4, 6, 12, 7, 9, 2],\n",
    "                                 \"Price ($)\", [1.30, 1.20, 2.00, 1.75, 1.40, 1.00])\n",
    "nutrition = Table().with_columns(\"Type\", [\"Dark\", \"Milk\", \"White\", \"Ruby\"],\n",
    "                                 \"Calories\", [120, 130, 115, 120])\n",
    "chocolates.show()\n",
    "nutrition.show()"
   ]
  },
  {
   "cell_type": "code",
   "execution_count": 5,
   "id": "9ca83bbc",
   "metadata": {},
   "outputs": [
    {
     "data": {
      "text/html": [
       "<table border=\"1\" class=\"dataframe\">\n",
       "    <thead>\n",
       "        <tr>\n",
       "            <th>Shape</th> <th>Color max</th> <th>Amount max</th> <th>Price ($) max</th>\n",
       "        </tr>\n",
       "    </thead>\n",
       "    <tbody>\n",
       "        <tr>\n",
       "            <td>Rectangular</td> <td>White    </td> <td>12        </td> <td>2            </td>\n",
       "        </tr>\n",
       "        <tr>\n",
       "            <td>Round      </td> <td>Milk     </td> <td>7         </td> <td>1.75         </td>\n",
       "        </tr>\n",
       "    </tbody>\n",
       "</table>"
      ],
      "text/plain": [
       "Shape       | Color max | Amount max | Price ($) max\n",
       "Rectangular | White     | 12         | 2\n",
       "Round       | Milk      | 7          | 1.75"
      ]
     },
     "execution_count": 5,
     "metadata": {},
     "output_type": "execute_result"
    }
   ],
   "source": [
    "chocolates.group(\"Shape\", max)"
   ]
  },
  {
   "cell_type": "code",
   "execution_count": 9,
   "id": "020fae89",
   "metadata": {},
   "outputs": [
    {
     "data": {
      "text/html": [
       "<table border=\"1\" class=\"dataframe\">\n",
       "    <thead>\n",
       "        <tr>\n",
       "            <th>Shape</th> <th>Color</th> <th>Amount max</th> <th>Price ($) max</th>\n",
       "        </tr>\n",
       "    </thead>\n",
       "    <tbody>\n",
       "        <tr>\n",
       "            <td>Rectangular</td> <td>Milk </td> <td>9         </td> <td>1.4          </td>\n",
       "        </tr>\n",
       "        <tr>\n",
       "            <td>Rectangular</td> <td>White</td> <td>12        </td> <td>2            </td>\n",
       "        </tr>\n",
       "        <tr>\n",
       "            <td>Round      </td> <td>Dark </td> <td>7         </td> <td>1.75         </td>\n",
       "        </tr>\n",
       "        <tr>\n",
       "            <td>Round      </td> <td>Milk </td> <td>2         </td> <td>1            </td>\n",
       "        </tr>\n",
       "    </tbody>\n",
       "</table>"
      ],
      "text/plain": [
       "Shape       | Color | Amount max | Price ($) max\n",
       "Rectangular | Milk  | 9          | 1.4\n",
       "Rectangular | White | 12         | 2\n",
       "Round       | Dark  | 7          | 1.75\n",
       "Round       | Milk  | 2          | 1"
      ]
     },
     "execution_count": 9,
     "metadata": {},
     "output_type": "execute_result"
    }
   ],
   "source": [
    "chocolates.pivot(“Color”, “Shape\", \"Price($)\", max)"
   ]
  },
  {
   "cell_type": "code",
   "execution_count": 3,
   "id": "afa878ab",
   "metadata": {},
   "outputs": [
    {
     "data": {
      "image/png": "[encoded data removed]",
      "text/plain": [
       "<Figure size 600x400 with 1 Axes>"
      ]
     },
     "metadata": {},
     "output_type": "display_data"
    }
   ],
   "source": [
    "tbl = Table().with_columns(\"Manufacturer\", make_array(\"RIM\", \"Other\", \"Apple\", \"Palm\", \"Motorola\", \"Nokia\"),\n",
    "                          \"Market Share (%)\", make_array(39.0, 21.2, 19.5, 9.8, 7.4, 3.1))\n",
    "tbl.barh(\"Manufacturer\", \"Market Share (%)\")"
   ]
  },
  {
   "cell_type": "code",
   "execution_count": 4,
   "id": "3c76f305",
   "metadata": {},
   "outputs": [
    {
     "data": {
      "image/png": "[encoded data removed]",
      "text/plain": [
       "<Figure size 600x400 with 1 Axes>"
      ]
     },
     "metadata": {},
     "output_type": "display_data"
    }
   ],
   "source": [
    "tbl1 = Table().with_columns(\"Student rent\", make_array(300, 400, 600, 970))\n",
    "tbl1.hist(\"Student rent\", unit = \"$\", bins = make_array(250, 350, 550, 950, 1350))\n",
    "#tbl1.hist(\"Student rent\", unit = \"$\", bins = make_array(250, 550, 950, 1350))"
   ]
  },
  {
   "cell_type": "code",
   "execution_count": 15,
   "id": "d710efea",
   "metadata": {},
   "outputs": [
    {
     "data": {
      "text/html": [
       "<table border=\"1\" class=\"dataframe\">\n",
       "    <thead>\n",
       "        <tr>\n",
       "            <th>Color</th> <th>Shape</th> <th>Amount max</th> <th>Price ($) max</th>\n",
       "        </tr>\n",
       "    </thead>\n",
       "    <tbody>\n",
       "        <tr>\n",
       "            <td>Dark </td> <td>Round      </td> <td>7         </td> <td>1.75         </td>\n",
       "        </tr>\n",
       "        <tr>\n",
       "            <td>Milk </td> <td>Rectangular</td> <td>9         </td> <td>1.4          </td>\n",
       "        </tr>\n",
       "        <tr>\n",
       "            <td>Milk </td> <td>Round      </td> <td>2         </td> <td>1            </td>\n",
       "        </tr>\n",
       "        <tr>\n",
       "            <td>White</td> <td>Rectangular</td> <td>12        </td> <td>2            </td>\n",
       "        </tr>\n",
       "    </tbody>\n",
       "</table>"
      ],
      "text/plain": [
       "Color | Shape       | Amount max | Price ($) max\n",
       "Dark  | Round       | 7          | 1.75\n",
       "Milk  | Rectangular | 9          | 1.4\n",
       "Milk  | Round       | 2          | 1\n",
       "White | Rectangular | 12         | 2"
      ]
     },
     "execution_count": 15,
     "metadata": {},
     "output_type": "execute_result"
    }
   ],
   "source": [
    "chocolates = Table().with_columns(\"Color\", make_array(\"Dark\", \"Milk\", \"White\", \"Dark\", \"Milk\", \"Milk\"),\n",
    "                                  \"Shape\", make_array(\"Round\", \"Rectangular\", \"Rectangular\", \"Round\", \"Rectangular\", \"Round\"),\n",
    "                                  \"Amount\", [4, 6, 12, 7, 9, 2],\n",
    "                                  \"Price ($)\", [1.30, 1.20, 2.00, 1.75, 1.40, 1.00])\n",
    "#chocolates.group(make_array(\"Color\", \"Shape\"), sum)\n",
    "chocolates.group(make_array(\"Color\", \"Shape\"), max)"
   ]
  },
  {
   "cell_type": "code",
   "execution_count": 20,
   "id": "5c05b23a",
   "metadata": {},
   "outputs": [
    {
     "data": {
      "text/html": [
       "<table border=\"1\" class=\"dataframe\">\n",
       "    <thead>\n",
       "        <tr>\n",
       "            <th>State</th> <th>Sex</th> <th>Year</th> <th>Name</th> <th>Occurrence</th>\n",
       "        </tr>\n",
       "    </thead>\n",
       "    <tbody>\n",
       "        <tr>\n",
       "            <td>CA   </td> <td>F   </td> <td>1910</td> <td>Mary    </td> <td>295       </td>\n",
       "        </tr>\n",
       "        <tr>\n",
       "            <td>CA   </td> <td>F   </td> <td>1910</td> <td>Helen   </td> <td>239       </td>\n",
       "        </tr>\n",
       "        <tr>\n",
       "            <td>CA   </td> <td>F   </td> <td>1910</td> <td>Dorothy </td> <td>220       </td>\n",
       "        </tr>\n",
       "        <tr>\n",
       "            <td>CA   </td> <td>F   </td> <td>1910</td> <td>Margaret</td> <td>163       </td>\n",
       "        </tr>\n",
       "    </tbody>\n",
       "</table>"
      ],
      "text/plain": [
       "<IPython.core.display.HTML object>"
      ]
     },
     "metadata": {},
     "output_type": "display_data"
    },
    {
     "data": {
      "text/plain": [
       "'Mary'"
      ]
     },
     "execution_count": 20,
     "metadata": {},
     "output_type": "execute_result"
    }
   ],
   "source": [
    "ca = Table().with_columns(\"State\", make_array(\"CA\", \"CA\", \"CA\", \"CA\"),\n",
    "                       \"Sex\", make_array(\"F\", \"F\", \"F\", \"F\"),\n",
    "                       \"Year\", make_array(\"1910\", \"1910\", \"1910\", \"1910\"),\n",
    "                       \"Name\", make_array(\"Mary\", \"Helen\", \"Dorothy\", \"Margaret\"),\n",
    "                       \"Occurrence\", [295, 239, 220, 163])\n",
    "ca.show()\n",
    "ca.group(\"Name\", sum).sort(\"Occurrence sum\", descending = True).column(\"Name\").item(0)"
   ]
  },
  {
   "cell_type": "code",
   "execution_count": 4,
   "id": "6105c788",
   "metadata": {},
   "outputs": [
    {
     "data": {
      "text/plain": [
       "array([ 1.09  ,  1.3625,  1.3625,  1.9075])"
      ]
     },
     "execution_count": 4,
     "metadata": {},
     "output_type": "execute_result"
    }
   ],
   "source": [
    "prices = make_array(1.00, 1.25, 1.25, 1.75)\n",
    "prices*1.09"
   ]
  },
  {
   "cell_type": "code",
   "execution_count": 5,
   "id": "ce2c74c7",
   "metadata": {},
   "outputs": [
    {
     "data": {
      "text/plain": [
       "0.5"
      ]
     },
     "execution_count": 5,
     "metadata": {},
     "output_type": "execute_result"
    }
   ],
   "source": [
    "max(np.diff(prices))"
   ]
  },
  {
   "cell_type": "code",
   "execution_count": 14,
   "id": "555e0b5b",
   "metadata": {},
   "outputs": [
    {
     "name": "stdout",
     "output_type": "stream",
     "text": [
      "1\n",
      "1\n",
      "1\n"
     ]
    }
   ],
   "source": [
    "nutrition = Table().with_columns(\"Item\", make_array(\"Chicken Sandwich\", \"Grilled Nuggets\", \"Vanilla Milkshake\", \"Potato Fries\", \"Hash Browns\"),\n",
    "                               \"Fat\", [17, 3, 22, 24, 18],\n",
    "                               \"Cal\", [440, 130, 550, 420, 270],\n",
    "                               \"Carbs\", [41, 1, 76, 45, 23],\n",
    "                               \"Category\", make_array(\"Entree\", \"Entree\", \"Treats\", \"Sides\", \"Breakfast\"))\n",
    "print(nutrition.where('Category', are.equal_to('Entree')).where('Cal', are.above(200)).num_rows)\n",
    "print(nutrition.where('Cal', are.above(200)).where('Category', are.equal_to('Entree')).group('Category').column('count').item(0))\n",
    "print(nutrition.where('Cal', are.above(200)).group('Category').where('Category', are.equal_to('Entree')).column('count').item(0))"
   ]
  },
  {
   "cell_type": "code",
   "execution_count": 15,
   "id": "e28ffd17",
   "metadata": {},
   "outputs": [
    {
     "data": {
      "text/html": [
       "<table border=\"1\" class=\"dataframe\">\n",
       "    <thead>\n",
       "        <tr>\n",
       "            <th>Item</th> <th>Fat</th> <th>Cal</th> <th>Carbs</th> <th>Category</th>\n",
       "        </tr>\n",
       "    </thead>\n",
       "    <tbody>\n",
       "        <tr>\n",
       "            <td>Chicken Sandwich </td> <td>17  </td> <td>440 </td> <td>41   </td> <td>Entree   </td>\n",
       "        </tr>\n",
       "        <tr>\n",
       "            <td>Grilled Nuggets  </td> <td>3   </td> <td>130 </td> <td>1    </td> <td>Entree   </td>\n",
       "        </tr>\n",
       "        <tr>\n",
       "            <td>Vanilla Milkshake</td> <td>22  </td> <td>550 </td> <td>76   </td> <td>Treats   </td>\n",
       "        </tr>\n",
       "        <tr>\n",
       "            <td>Potato Fries     </td> <td>24  </td> <td>420 </td> <td>45   </td> <td>Sides    </td>\n",
       "        </tr>\n",
       "        <tr>\n",
       "            <td>Hash Browns      </td> <td>18  </td> <td>270 </td> <td>23   </td> <td>Breakfast</td>\n",
       "        </tr>\n",
       "    </tbody>\n",
       "</table>"
      ],
      "text/plain": [
       "<IPython.core.display.HTML object>"
      ]
     },
     "metadata": {},
     "output_type": "display_data"
    }
   ],
   "source": [
    "nutrition.show()"
   ]
  },
  {
   "cell_type": "code",
   "execution_count": 18,
   "id": "f39253a9",
   "metadata": {},
   "outputs": [
    {
     "data": {
      "image/png": "[encoded data removed]",
      "text/plain": [
       "<Figure size 600x400 with 1 Axes>"
      ]
     },
     "metadata": {},
     "output_type": "display_data"
    }
   ],
   "source": [
    "nutrition.select(\"Fat\").hist(\"Fat\", unit = \"g\", bins = np.arange(0, 34, 3))"
   ]
  },
  {
   "cell_type": "code",
   "execution_count": 19,
   "id": "f1dc4b13",
   "metadata": {},
   "outputs": [
    {
     "data": {
      "text/html": [
       "<table border=\"1\" class=\"dataframe\">\n",
       "    <thead>\n",
       "        <tr>\n",
       "            <th>bin</th> <th>Fat count</th>\n",
       "        </tr>\n",
       "    </thead>\n",
       "    <tbody>\n",
       "        <tr>\n",
       "            <td>3   </td> <td>1        </td>\n",
       "        </tr>\n",
       "        <tr>\n",
       "            <td>5.1 </td> <td>0        </td>\n",
       "        </tr>\n",
       "        <tr>\n",
       "            <td>7.2 </td> <td>0        </td>\n",
       "        </tr>\n",
       "        <tr>\n",
       "            <td>9.3 </td> <td>0        </td>\n",
       "        </tr>\n",
       "        <tr>\n",
       "            <td>11.4</td> <td>0        </td>\n",
       "        </tr>\n",
       "        <tr>\n",
       "            <td>13.5</td> <td>0        </td>\n",
       "        </tr>\n",
       "        <tr>\n",
       "            <td>15.6</td> <td>1        </td>\n",
       "        </tr>\n",
       "        <tr>\n",
       "            <td>17.7</td> <td>1        </td>\n",
       "        </tr>\n",
       "        <tr>\n",
       "            <td>19.8</td> <td>0        </td>\n",
       "        </tr>\n",
       "        <tr>\n",
       "            <td>21.9</td> <td>2        </td>\n",
       "        </tr>\n",
       "    </tbody>\n",
       "</table>\n",
       "<p>... (1 rows omitted)</p>"
      ],
      "text/plain": [
       "bin  | Fat count\n",
       "3    | 1\n",
       "5.1  | 0\n",
       "7.2  | 0\n",
       "9.3  | 0\n",
       "11.4 | 0\n",
       "13.5 | 0\n",
       "15.6 | 1\n",
       "17.7 | 1\n",
       "19.8 | 0\n",
       "21.9 | 2\n",
       "... (1 rows omitted)"
      ]
     },
     "execution_count": 19,
     "metadata": {},
     "output_type": "execute_result"
    }
   ],
   "source": [
    "nutrition.bin(\"Fat\")"
   ]
  },
  {
   "cell_type": "code",
   "execution_count": 20,
   "id": "cf60e807",
   "metadata": {},
   "outputs": [
    {
     "ename": "IndexError",
     "evalue": "index 3 is out of bounds for axis 0 with size 3",
     "output_type": "error",
     "traceback": [
      "\u001b[0;31m---------------------------------------------------------------------------\u001b[0m",
      "\u001b[0;31mIndexError\u001b[0m                                Traceback (most recent call last)",
      "Cell \u001b[0;32mIn[20], line 4\u001b[0m\n\u001b[1;32m      1\u001b[0m \u001b[38;5;28;01mdef\u001b[39;00m \u001b[38;5;21mmy_function\u001b[39m(x):\n\u001b[1;32m      2\u001b[0m      \u001b[38;5;28;01mreturn\u001b[39;00m x\u001b[38;5;241m.\u001b[39mitem(\u001b[38;5;241m3\u001b[39m) \u001b[38;5;241m-\u001b[39m x\u001b[38;5;241m.\u001b[39mitem(\u001b[38;5;241m2\u001b[39m)\n\u001b[0;32m----> 4\u001b[0m \u001b[43mmy_function\u001b[49m\u001b[43m(\u001b[49m\u001b[43mmake_array\u001b[49m\u001b[43m(\u001b[49m\u001b[38;5;241;43m100\u001b[39;49m\u001b[43m,\u001b[49m\u001b[43m \u001b[49m\u001b[38;5;241;43m50\u001b[39;49m\u001b[43m,\u001b[49m\u001b[43m \u001b[49m\u001b[38;5;241;43m10\u001b[39;49m\u001b[43m)\u001b[49m\u001b[43m)\u001b[49m\n",
      "Cell \u001b[0;32mIn[20], line 2\u001b[0m, in \u001b[0;36mmy_function\u001b[0;34m(x)\u001b[0m\n\u001b[1;32m      1\u001b[0m \u001b[38;5;28;01mdef\u001b[39;00m \u001b[38;5;21mmy_function\u001b[39m(x):\n\u001b[0;32m----> 2\u001b[0m      \u001b[38;5;28;01mreturn\u001b[39;00m \u001b[43mx\u001b[49m\u001b[38;5;241;43m.\u001b[39;49m\u001b[43mitem\u001b[49m\u001b[43m(\u001b[49m\u001b[38;5;241;43m3\u001b[39;49m\u001b[43m)\u001b[49m \u001b[38;5;241m-\u001b[39m x\u001b[38;5;241m.\u001b[39mitem(\u001b[38;5;241m2\u001b[39m)\n",
      "\u001b[0;31mIndexError\u001b[0m: index 3 is out of bounds for axis 0 with size 3"
     ]
    }
   ],
   "source": [
    "def my_function(x):\n",
    "     return x.item(3) - x.item(2)\n",
    "    \n",
    "my_function(make_array(100, 50, 10))"
   ]
  },
  {
   "cell_type": "code",
   "execution_count": 21,
   "id": "fd368075",
   "metadata": {},
   "outputs": [
    {
     "data": {
      "text/plain": [
       "20"
      ]
     },
     "execution_count": 21,
     "metadata": {},
     "output_type": "execute_result"
    }
   ],
   "source": [
    "def my_function(x):\n",
    "      return x.item(3) - x.item(2)\n",
    "\n",
    "my_function(make_array(100, 50, 10, 30, 70))"
   ]
  },
  {
   "cell_type": "code",
   "execution_count": 23,
   "id": "40691327",
   "metadata": {},
   "outputs": [
    {
     "data": {
      "text/plain": [
       "4"
      ]
     },
     "execution_count": 23,
     "metadata": {},
     "output_type": "execute_result"
    }
   ],
   "source": [
    "def sum_of_mins(arr1, arr2):\n",
    "    return min(arr1) + min(arr2)\n",
    "\n",
    "sum_of_mins(make_array(3, 14, 7), make_array(10, 7, 1, 20))"
   ]
  }
 ],
 "metadata": {
  "kernelspec": {
   "display_name": "Python 3 (ipykernel)",
   "language": "python",
   "name": "python3"
  },
  "language_info": {
   "codemirror_mode": {
    "name": "ipython",
    "version": 3
   },
   "file_extension": ".py",
   "mimetype": "text/x-python",
   "name": "python",
   "nbconvert_exporter": "python",
   "pygments_lexer": "ipython3",
   "version": "3.10.11"
  }
 },
 "nbformat": 4,
 "nbformat_minor": 5
}
